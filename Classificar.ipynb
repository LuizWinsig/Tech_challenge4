{
 "cells": [
  {
   "cell_type": "code",
   "execution_count": 3,
   "metadata": {},
   "outputs": [
    {
     "name": "stderr",
     "output_type": "stream",
     "text": [
      "C:\\Users\\nando\\AppData\\Local\\Temp\\ipykernel_14772\\2686554171.py:19: SettingWithCopyWarning: \n",
      "A value is trying to be set on a copy of a slice from a DataFrame.\n",
      "Try using .loc[row_indexer,col_indexer] = value instead\n",
      "\n",
      "See the caveats in the documentation: https://pandas.pydata.org/pandas-docs/stable/user_guide/indexing.html#returning-a-view-versus-a-copy\n",
      "  df_100[\"concatenação\"] = \"<pergunta> \" + df_100[\"problema\"] + \"<fimpergunta> <resposta> \" + df_100[\"solucao\"] + \"<fimresposta>\"\n",
      "100%|██████████| 200/200 [15:20<00:00,  4.60s/it]\n",
      "C:\\Users\\nando\\AppData\\Local\\Temp\\ipykernel_14772\\2686554171.py:35: SettingWithCopyWarning: \n",
      "A value is trying to be set on a copy of a slice from a DataFrame.\n",
      "Try using .loc[row_indexer,col_indexer] = value instead\n",
      "\n",
      "See the caveats in the documentation: https://pandas.pydata.org/pandas-docs/stable/user_guide/indexing.html#returning-a-view-versus-a-copy\n",
      "  df_100[\"ambito\"] = list(tqdm(executor.map(classificar_ambito, df_100[\"concatenação\"]), total=len(df_100)))\n"
     ]
    }
   ],
   "source": [
    "import pandas as pd\n",
    "from transformers import pipeline\n",
    "from tqdm import tqdm\n",
    "import concurrent.futures\n",
    "\n",
    "# Carregar o dataset original e selecionar as 100 primeiras linhas\n",
    "df = pd.read_csv(\"Results 2.csv\")\n",
    "df_100 = df.head(200)\n",
    "\n",
    "# Definir as categorias para classificação\n",
    "categorias = ['PHC', 'Financeiro', 'Service desk', 'Problemas de Ficha', 'Contrato', 'Duvida', 'WinArmazens','Erro no PHC','Password','PHC on','Impressao de Documentos'\n",
    "              ,'Faturação', 'Phcweb', 'Vencimentos','Integrações','IRS','Fatura Eletronica','ODBC','Acessos','Pedido Urgente'\n",
    "              ,'desenvolvimento','contato sem sucesso','IDU','Emails','imobilizado','exportação de ficheiros','InformaDB','intalação de phc','campos não preenchidos']\n",
    "\n",
    "# Carregar o modelo de classificação zero-shot\n",
    "classificador = pipeline(\"zero-shot-classification\", model=\"MoritzLaurer/mDeBERTa-v3-base-mnli-xnli\",temperature = 0.1,)\n",
    "\n",
    "# Concatenar as colunas problema e solução em uma nova coluna para classificação\n",
    "df_100[\"concatenação\"] = \"<pergunta> \" + df_100[\"problema\"] + \"<fimpergunta> <resposta> \" + df_100[\"solucao\"] + \"<fimresposta>\"\n",
    "\n",
    "# Adicionar a barra de progresso ao aplicar a classificação\n",
    "tqdm.pandas()\n",
    "\n",
    "# classificador.function_to_apply('Sigmoid')\n",
    "\n",
    "# Função para classificar o âmbito\n",
    "def classificar_ambito(pergunta):\n",
    "    resultado = classificador(pergunta, candidate_labels=categorias)\n",
    "    return resultado['labels'][0]\n",
    "\n",
    "# Aplicar a classificação com barra de progresso\n",
    "#df_100[\"ambito\"] = df_100[\"concatenação\"].progress_apply(classificar_ambito)\n",
    "\n",
    "with concurrent.futures.ThreadPoolExecutor() as executor:\n",
    "    df_100[\"ambito\"] = list(tqdm(executor.map(classificar_ambito, df_100[\"concatenação\"]), total=len(df_100)))\n",
    "\n",
    "\n",
    "\n",
    "# Exibir o DataFrame com a nova coluna de âmbito\n",
    "#print(df_100.head())\n",
    "\n",
    "df_100.to_excel('classificado4.xlsx')\n"
   ]
  }
 ],
 "metadata": {
  "kernelspec": {
   "display_name": "Python 3",
   "language": "python",
   "name": "python3"
  },
  "language_info": {
   "codemirror_mode": {
    "name": "ipython",
    "version": 3
   },
   "file_extension": ".py",
   "mimetype": "text/x-python",
   "name": "python",
   "nbconvert_exporter": "python",
   "pygments_lexer": "ipython3",
   "version": "3.12.0"
  }
 },
 "nbformat": 4,
 "nbformat_minor": 2
}
